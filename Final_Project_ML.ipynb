{
 "cells": [
  {
   "cell_type": "code",
   "execution_count": 29,
   "metadata": {},
   "outputs": [
    {
     "name": "stdout",
     "output_type": "stream",
     "text": [
      "Model: \"sequential_13\"\n",
      "_________________________________________________________________\n",
      " Layer (type)                Output Shape              Param #   \n",
      "=================================================================\n",
      " conv2d_27 (Conv2D)          (None, 58, 58, 32)        320       \n",
      "                                                                 \n",
      " activation_44 (Activation)  (None, 58, 58, 32)        0         \n",
      "                                                                 \n",
      " max_pooling2d_27 (MaxPoolin  (None, 29, 29, 32)       0         \n",
      " g2D)                                                            \n",
      "                                                                 \n",
      " conv2d_28 (Conv2D)          (None, 27, 27, 32)        9248      \n",
      "                                                                 \n",
      " activation_45 (Activation)  (None, 27, 27, 32)        0         \n",
      "                                                                 \n",
      " max_pooling2d_28 (MaxPoolin  (None, 13, 13, 32)       0         \n",
      " g2D)                                                            \n",
      "                                                                 \n",
      " conv2d_29 (Conv2D)          (None, 11, 11, 32)        9248      \n",
      "                                                                 \n",
      " activation_46 (Activation)  (None, 11, 11, 32)        0         \n",
      "                                                                 \n",
      " max_pooling2d_29 (MaxPoolin  (None, 5, 5, 32)         0         \n",
      " g2D)                                                            \n",
      "                                                                 \n",
      " flatten_12 (Flatten)        (None, 800)               0         \n",
      "                                                                 \n",
      " dense_20 (Dense)            (None, 1)                 801       \n",
      "                                                                 \n",
      " activation_47 (Activation)  (None, 1)                 0         \n",
      "                                                                 \n",
      "=================================================================\n",
      "Total params: 19,617\n",
      "Trainable params: 19,617\n",
      "Non-trainable params: 0\n",
      "_________________________________________________________________\n"
     ]
    }
   ],
   "source": [
    "import numpy as np\n",
    "import tensorflow as tf\n",
    "from tensorflow.compat.v1 import ConfigProto\n",
    "from tensorflow.compat.v1 import InteractiveSession\n",
    "from tensorflow import keras\n",
    "from tensorflow.keras import layers\n",
    "from tensorflow.keras.models import Sequential\n",
    "from tensorflow.keras.layers import Dense, Activation, Flatten , Conv2D , MaxPooling2D\n",
    "from tensorflow.keras.callbacks import TensorBoard\n",
    "import pickle\n",
    "import time\n",
    "\n",
    "config = ConfigProto()\n",
    "config.gpu_options.per_process_gpu_memory_fraction = 0.333\n",
    "session = InteractiveSession(config=config)\n",
    "\n",
    "MODEL_ID = \"Cat_or_Dog_32x3_No_Dense{}\".format(int(time.time()))\n",
    "\n",
    "tensorboard = TensorBoard(log_dir = 'logs/{}'.format(MODEL_ID))\n",
    "\n",
    "X = pickle.load(open(\"X.pickle\" , \"rb\"))\n",
    "y_train = pickle.load(open(\"y.pickle\" , \"rb\"))\n",
    "\n",
    "X = X / 255.0\n",
    "\n",
    "model = Sequential()\n",
    "\n",
    "model.add(Conv2D(32 , (3,3) , input_shape = X.shape[1:]))\n",
    "model.add(Activation(\"relu\"))\n",
    "model.add(MaxPooling2D(pool_size = (2,2)))\n",
    "\n",
    "model.add(Conv2D(32 , (3,3)))\n",
    "model.add(Activation(\"relu\"))\n",
    "model.add(MaxPooling2D(pool_size = (2,2)))\n",
    "\n",
    "model.add(Conv2D(32 , (3,3)))\n",
    "model.add(Activation(\"relu\"))\n",
    "model.add(MaxPooling2D(pool_size = (2,2)))\n",
    "\n",
    "model.add(Flatten())\n",
    "\n",
    "model.add(Dense(1))\n",
    "model.add(Activation('sigmoid'))\n",
    "\n",
    "model.compile(optimizer = keras.optimizers.RMSprop(),\n",
    "              loss = 'binary_crossentropy',\n",
    "              metrics = ['accuracy'],\n",
    ")\n",
    "\n",
    "X_train = np.array(X)\n",
    "\n",
    "model.summary()"
   ]
  },
  {
   "cell_type": "code",
   "execution_count": 30,
   "metadata": {},
   "outputs": [
    {
     "name": "stdout",
     "output_type": "stream",
     "text": [
      "Epoch 1/10\n",
      "352/352 [==============================] - 20s 57ms/step - loss: 0.6515 - accuracy: 0.6097 - val_loss: 0.6010 - val_accuracy: 0.6784\n",
      "Epoch 2/10\n",
      "352/352 [==============================] - 21s 59ms/step - loss: 0.5928 - accuracy: 0.6844 - val_loss: 0.6209 - val_accuracy: 0.6540\n",
      "Epoch 3/10\n",
      "352/352 [==============================] - 20s 57ms/step - loss: 0.5468 - accuracy: 0.7236 - val_loss: 0.5355 - val_accuracy: 0.7360\n",
      "Epoch 4/10\n",
      "352/352 [==============================] - 20s 56ms/step - loss: 0.5121 - accuracy: 0.7497 - val_loss: 0.5305 - val_accuracy: 0.7404\n",
      "Epoch 5/10\n",
      "352/352 [==============================] - 19s 55ms/step - loss: 0.4915 - accuracy: 0.7629 - val_loss: 0.4809 - val_accuracy: 0.7736\n",
      "Epoch 6/10\n",
      "352/352 [==============================] - 20s 57ms/step - loss: 0.4717 - accuracy: 0.7775 - val_loss: 0.4710 - val_accuracy: 0.7824\n",
      "Epoch 7/10\n",
      "352/352 [==============================] - 20s 57ms/step - loss: 0.4563 - accuracy: 0.7851 - val_loss: 0.4536 - val_accuracy: 0.7956\n",
      "Epoch 8/10\n",
      "352/352 [==============================] - 20s 56ms/step - loss: 0.4428 - accuracy: 0.7907 - val_loss: 0.4600 - val_accuracy: 0.7932\n",
      "Epoch 9/10\n",
      "352/352 [==============================] - 20s 56ms/step - loss: 0.4281 - accuracy: 0.8041 - val_loss: 0.4617 - val_accuracy: 0.7824\n",
      "Epoch 10/10\n",
      "352/352 [==============================] - 20s 56ms/step - loss: 0.4143 - accuracy: 0.8097 - val_loss: 0.4498 - val_accuracy: 0.7960\n"
     ]
    }
   ],
   "source": [
    "from gc import callbacks\n",
    "\n",
    "history = model.fit(\n",
    "    X_train,\n",
    "    y_train,\n",
    "    batch_size=64,\n",
    "    epochs=10,\n",
    "    validation_split = 0.1,\n",
    "    callbacks = [tensorboard]\n",
    ")"
   ]
  }
 ],
 "metadata": {
  "kernelspec": {
   "display_name": "Python 3.9.7 ('base')",
   "language": "python",
   "name": "python3"
  },
  "language_info": {
   "codemirror_mode": {
    "name": "ipython",
    "version": 3
   },
   "file_extension": ".py",
   "mimetype": "text/x-python",
   "name": "python",
   "nbconvert_exporter": "python",
   "pygments_lexer": "ipython3",
   "version": "3.9.7"
  },
  "orig_nbformat": 4,
  "vscode": {
   "interpreter": {
    "hash": "9d8a2aa56706f0475aa983bd88b54765f20e6e6d70a842875d22122789babd85"
   }
  }
 },
 "nbformat": 4,
 "nbformat_minor": 2
}
